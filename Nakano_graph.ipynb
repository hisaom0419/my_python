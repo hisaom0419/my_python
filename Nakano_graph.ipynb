{
  "nbformat": 4,
  "nbformat_minor": 0,
  "metadata": {
    "colab": {
      "name": "Nakano_graph.ipynb",
      "provenance": [],
      "mount_file_id": "1-yEPSvj2tnP3NbCReeNLUn7pZy3pCDAS",
      "authorship_tag": "ABX9TyNb6sb4EgOAPlT8tsIh6sPG",
      "include_colab_link": true
    },
    "kernelspec": {
      "name": "python3",
      "display_name": "Python 3"
    },
    "language_info": {
      "name": "python"
    }
  },
  "cells": [
    {
      "cell_type": "markdown",
      "metadata": {
        "id": "view-in-github",
        "colab_type": "text"
      },
      "source": [
        "<a href=\"https://colab.research.google.com/github/hisaom0419/my_python/blob/master/Nakano_graph.ipynb\" target=\"_parent\"><img src=\"https://colab.research.google.com/assets/colab-badge.svg\" alt=\"Open In Colab\"/></a>"
      ]
    },
    {
      "cell_type": "code",
      "metadata": {
        "id": "B9kis94wxPm5"
      },
      "source": [
        "%pwd\n",
        "%cd ./drive/MyDrive/Colab Notebooks\n",
        "%ls"
      ],
      "execution_count": null,
      "outputs": []
    },
    {
      "cell_type": "code",
      "metadata": {
        "id": "TpReUAYxxWlz"
      },
      "source": [
        "#ライブラリーのインポート\n",
        "import pandas as pd\n",
        "import seaborn as sns\n",
        "import matplotlib.pyplot as plt\n",
        "import numpy as np"
      ],
      "execution_count": 80,
      "outputs": []
    },
    {
      "cell_type": "code",
      "metadata": {
        "id": "ygaeTEo-xXat"
      },
      "source": [
        "#２つのデータの読み込み（ワークシートごとに読み込むことも可能ですし、余計なヘッダーを取り除くこともできます。列名にピリオドやスペースを使わない事）\n",
        "df1 = pd.read_excel('Book1_1.xlsx')\n",
        "df2 = pd.read_excel('Book1_2.xlsx')\n",
        "\n",
        "#２つのデータフレームを'tubeNo'をキーにして結合。how='outer'にすることでデータの欠損値も含めて新しいデータフレームにしてくれる。\n",
        "df3 = pd.merge(df1, df2, on='tubeNo', how='outer')\n",
        "\n",
        "#まずはx軸を'tubeNo'としてグラフを描いてみる\n",
        "df3.plot(x='tubeNo')"
      ],
      "execution_count": null,
      "outputs": []
    },
    {
      "cell_type": "markdown",
      "metadata": {
        "id": "Tz1BJJm-9cFn"
      },
      "source": [
        "[グラフ表示の変更はここ参照](https://pythondatascience.plavox.info/matplotlib/%E6%8A%98%E3%82%8C%E7%B7%9A%E3%82%B0%E3%83%A9%E3%83%95)\n",
        "\n",
        "[二軸の作り方はここ参照](https://qiita.com/supersaiakujin/items/e2ee4019adefce08e381)"
      ]
    },
    {
      "cell_type": "code",
      "metadata": {
        "id": "6OkZnySnxpfU"
      },
      "source": [
        "#グラフのフォントを変更\n",
        "plt.rcParams[\"font.family\"] = 'sans-serif'\n",
        "\n",
        "#x軸データ、y軸データをdf3から作成\n",
        "x = df3['tubeNo']\n",
        "y1 = df3['230nm']\n",
        "y2 = df3['280nm']\n",
        "y3 = df3['470nm']\n",
        "\n",
        "#Matplotlibの作法にしたがってグラフ作成（サイズ変更可）\n",
        "fig = plt.figure(figsize=(5,5))\n",
        "\n",
        "#一軸目のグラフ\n",
        "ax1 = fig.add_subplot()\n",
        "ax1.plot(x,y1,marker=\"o\")\n",
        "ax1.plot(x,y2,linestyle='dashed')\n",
        "\n",
        "#二軸目のグラフ\n",
        "ax2 = ax1.twinx()\n",
        "ax2.plot(x,y3,color='red')\n",
        "\n",
        "#軸ラベル設定\n",
        "ax1.set_xlabel('1')\n",
        "ax1.set_ylabel('2')\n",
        "ax2.set_ylabel('3')\n",
        "\n",
        "#グラフ表示\n",
        "fig.show()"
      ],
      "execution_count": null,
      "outputs": []
    }
  ]
}