{
  "nbformat": 4,
  "nbformat_minor": 0,
  "metadata": {
    "colab": {
      "name": "MGR算出(Tecan).ipynb",
      "provenance": [],
      "mount_file_id": "1K6M9tfDc9BD3QxgqHSPyw24bjj0a7D5G",
      "authorship_tag": "ABX9TyOnXsrQsbRbjL3Zuejs/Szz",
      "include_colab_link": true
    },
    "kernelspec": {
      "name": "python3",
      "display_name": "Python 3"
    },
    "language_info": {
      "name": "python"
    }
  },
  "cells": [
    {
      "cell_type": "markdown",
      "metadata": {
        "id": "view-in-github",
        "colab_type": "text"
      },
      "source": [
        "<a href=\"https://colab.research.google.com/github/hisaom0419/my_python/blob/master/MGR%E7%AE%97%E5%87%BA(Tecan).ipynb\" target=\"_parent\"><img src=\"https://colab.research.google.com/assets/colab-badge.svg\" alt=\"Open In Colab\"/></a>"
      ]
    },
    {
      "cell_type": "code",
      "metadata": {
        "colab": {
          "base_uri": "https://localhost:8080/"
        },
        "id": "Cfi31Ci1Mbd5",
        "outputId": "750a6ee9-10c7-40f7-d840-2dfe23a0bfe5"
      },
      "source": [
        "%pwd\n",
        "%cd ./drive/MyDrive/Colab Notebooks\n",
        "%ls"
      ],
      "execution_count": null,
      "outputs": [
        {
          "output_type": "stream",
          "text": [
            "[Errno 2] No such file or directory: './drive/MyDrive/Colab Notebooks'\n",
            "/content/drive/MyDrive/Colab Notebooks\n",
            " 20210222_mox.xlsx           Iris_plt.ipynb                Python_start.ipynb\n",
            " averaged_data_FL1.xlsx      Iris_plt_やり方2.ipynb        Sample_No.xlsx\n",
            " averaged_data_growth.xlsx   Iris_sns_基本.ipynb           Sample_sheet.xlsx\n",
            " BioPython.ipynb             Iris_sns_条件とループ.ipynb   spectra.py\n",
            " Dataframe_intro.ipynb       iris.xlsx                     Start.ipynb\n",
            " FPs_38_GR.csv               Maplotlib_intro.ipynb         Tecan_analysis.ipynb\n",
            " Growth_data2.xlsx           MGR_calc_TECAN_HM.py          test_plot.pdf\n",
            " Growth_data.xlsx            MGR.csv                       unknown-sequence.fa\n",
            " iris.csv                   'MGR算出(Tecan).ipynb'         Untitled\n",
            " iris_HM.xlsx                \u001b[0m\u001b[01;34m__pycache__\u001b[0m/\n"
          ],
          "name": "stdout"
        }
      ]
    },
    {
      "cell_type": "code",
      "metadata": {
        "id": "qdJtQUhgMRPb"
      },
      "source": [
        "#プレートリーダーで取り込んだデータをソートする（12行 -> 8列）スクリプト。入力と出力のファイル名は自分で指定。\n",
        "\n",
        "import pandas as pd\n",
        "import numpy as np\n",
        "import matplotlib.pyplot as plt\n",
        "import csv\n",
        "get_ipython().run_line_magic('matplotlib', 'inline')"
      ],
      "execution_count": null,
      "outputs": []
    },
    {
      "cell_type": "code",
      "metadata": {
        "id": "rXGGVSWcMM7J"
      },
      "source": [
        "#初期設定（読み込みファイル名、出力ファイル名を決める）\n",
        "In_file = 'averaged_data_growth.xlsx'\n",
        "Out_file = 'FPs_38_sort.csv'\n",
        "Out2_file = 'FPs_38_GR.csv'\n",
        "MGR_file = 'FPs_MGR.csv'\n",
        "\n",
        "#測定間隔（min）、GRを算出するレンジ、R2の閾値を指定\n",
        "Period = 10\n",
        "Range = 27\n",
        "Threshold = 0.8"
      ],
      "execution_count": null,
      "outputs": []
    },
    {
      "cell_type": "code",
      "metadata": {
        "id": "1vBt-xRjckCt"
      },
      "source": [
        "#ここからデータ処理\n",
        "df = pd.read_excel(In_file,index_col=0)\n",
        "\n",
        "T_max = len(df.T.index) #測定数の最大値を取得\n",
        "Time = np.arange(0, T_max*Period/60, Period/60) #測定間隔（hr）のリストを作成\n",
        "\n",
        "\n",
        "#サンプル行の名前をリセット\n",
        "df_reset = df.reset_index(drop=True) \n",
        "df_index = df_reset.index.tolist() \n",
        "new_index = (df_reset.index//12 +1) + (df_reset.index%12)*8\n",
        "\n",
        "#8ウェルサンプルフォーマットに要素の並び替え\n",
        "df_reset.index = new_index\n",
        "df_sorted = df_reset.sort_index()\n",
        "\n",
        "#測定時間（hr）を加える\n",
        "df_sorted2 = df_sorted.T\n",
        "df_sorted2.insert(0, 'min', Time)\n",
        "\n",
        "df_sorted3 =df_sorted2.reset_index()\n",
        "\n",
        "#df_sorted3.T.to_csv(Out_file)"
      ],
      "execution_count": null,
      "outputs": []
    },
    {
      "cell_type": "code",
      "metadata": {
        "id": "SEAAYylkNVsl"
      },
      "source": [
        ""
      ],
      "execution_count": null,
      "outputs": []
    },
    {
      "cell_type": "code",
      "metadata": {
        "id": "gQz3yzEYdRV1",
        "colab": {
          "base_uri": "https://localhost:8080/"
        },
        "outputId": "8ee3c39e-ac54-464f-f8a1-8ba75da52e28"
      },
      "source": [
        "#WellごとにTimeウインドウを移動しながらGR（直線回帰の傾き=SlopeとR2を取得）、R2のThreshold以上のSlopeを返す（Threshold以下だと0.01を返す）。\n",
        "#最終的なGRは測定時間間隔（Period）で割り(min-1)、便宜的に1000をかけている。\n",
        "\n",
        "Well = 1\n",
        "\n",
        "while Well < 97:  \n",
        "    \n",
        "    Time = 0\n",
        "    \n",
        "    while Time < T_max-Range:\n",
        "        x = np.arange(Range)\n",
        "        log2_OD595 = np.log2(df4.iloc[Time:Time+Range,Well].values.tolist())\n",
        "\n",
        "        Slope = np.polyfit(x,log2_OD595,1)\n",
        "        R2 = np.corrcoef(x,log2_OD595)[0][1]**2\n",
        "    \n",
        "        if R2 > Threshold:\n",
        "            df4_out.iloc[Time,Well] = Slope[0]*1000/Period\n",
        "        else:\n",
        "            df4_out.iloc[Time,Well] = 0.01\n",
        "    \n",
        "        Time += 1\n",
        "       \n",
        "#    MGR.append(max(df4_out.iloc[0:T_max,Well].values.tolist()))\n",
        "          \n",
        "    Well += 1\n",
        "\n",
        "print('done')\n",
        "\n",
        "#データの書き出し\n",
        "\n",
        "df4_out.to_csv(Out2_file)\n",
        "\n",
        "with open('MGR.csv', 'w') as file:\n",
        "    writer = csv.writer(file, lineterminator='\\n')\n",
        "    writer.writerow(MGR)\n"
      ],
      "execution_count": null,
      "outputs": [
        {
          "output_type": "stream",
          "text": [
            "/usr/local/lib/python3.7/dist-packages/ipykernel_launcher.py:12: RuntimeWarning: divide by zero encountered in log2\n",
            "  if sys.path[0] == '':\n",
            "/usr/local/lib/python3.7/dist-packages/numpy/lib/function_base.py:2474: RuntimeWarning: invalid value encountered in subtract\n",
            "  X -= avg[:, None]\n"
          ],
          "name": "stderr"
        },
        {
          "output_type": "stream",
          "text": [
            "done\n"
          ],
          "name": "stdout"
        }
      ]
    },
    {
      "cell_type": "code",
      "metadata": {
        "id": "O6Jq3gdhdTgC",
        "colab": {
          "base_uri": "https://localhost:8080/",
          "height": 269
        },
        "outputId": "c36fa5ae-43a6-4f9a-80d7-ec5c260d2133"
      },
      "source": [
        "#グラフで結果を確認（25のところを変更する）\n",
        "\n",
        "Well = 10\n",
        "\n",
        "plt.ylim(0, 10)\n",
        "df4[Well].plot(color='black', linestyle ='dashed')\n",
        "df4_out[Well].plot(color='red')\n",
        "plt.show()"
      ],
      "execution_count": null,
      "outputs": [
        {
          "output_type": "display_data",
          "data": {
            "image/png": "[encoded data removed]",
            "text/plain": [
              "<Figure size 432x288 with 1 Axes>"
            ]
          },
          "metadata": {
            "tags": [],
            "needs_background": "light"
          }
        }
      ]
    }
  ]
}