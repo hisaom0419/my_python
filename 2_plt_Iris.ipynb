{
  "nbformat": 4,
  "nbformat_minor": 0,
  "metadata": {
    "colab": {
      "name": "2_plt_Iris.ipynb",
      "provenance": [],
      "collapsed_sections": [],
      "mount_file_id": "1PDJXc1XiW6BhXgu3Xa_Rgrp0uJNDRGnA",
      "authorship_tag": "ABX9TyNd/i82b2QcV3ehiMtAIW3H",
      "include_colab_link": true
    },
    "kernelspec": {
      "name": "python3",
      "display_name": "Python 3"
    },
    "language_info": {
      "name": "python"
    }
  },
  "cells": [
    {
      "cell_type": "markdown",
      "metadata": {
        "id": "view-in-github",
        "colab_type": "text"
      },
      "source": [
        "<a href=\"https://colab.research.google.com/github/hisaom0419/my_python/blob/master/2_plt_Iris.ipynb\" target=\"_parent\"><img src=\"https://colab.research.google.com/assets/colab-badge.svg\" alt=\"Open In Colab\"/></a>"
      ]
    },
    {
      "cell_type": "markdown",
      "metadata": {
        "id": "A8kABW9RBy17"
      },
      "source": [
        "データから、平均値と標準偏差を示すグラフを作成。Matplotlibを使った基本的なやり方。"
      ]
    },
    {
      "cell_type": "code",
      "metadata": {
        "colab": {
          "base_uri": "https://localhost:8080/"
        },
        "id": "65z_PG_Nj9jz",
        "outputId": "ec47a9ce-a8ce-49dd-8ea9-03a3d3b9817d"
      },
      "source": [
        "from google.colab import drive\n",
        "drive.mount('/content/drive')"
      ],
      "execution_count": 1,
      "outputs": [
        {
          "output_type": "stream",
          "text": [
            "Drive already mounted at /content/drive; to attempt to forcibly remount, call drive.mount(\"/content/drive\", force_remount=True).\n"
          ],
          "name": "stdout"
        }
      ]
    },
    {
      "cell_type": "code",
      "metadata": {
        "id": "ip8gG20kDBz9"
      },
      "source": [
        "%pwd\n",
        "%cd /content/drive/MyDrive/Colab Notebooks\n",
        "%ls"
      ],
      "execution_count": null,
      "outputs": []
    },
    {
      "cell_type": "code",
      "metadata": {
        "id": "s7Nr-N5vByC3"
      },
      "source": [
        "#ライブラリーのインポート\n",
        "import pandas as pd\n",
        "import seaborn as sns\n",
        "import matplotlib.pyplot as plt\n",
        "import numpy as np"
      ],
      "execution_count": 3,
      "outputs": []
    },
    {
      "cell_type": "code",
      "metadata": {
        "id": "zuA2oMJRt6J2"
      },
      "source": [
        "#整形されたファイルを読み込んでグラフ化\n",
        "\n",
        "#ファイル読み込み\n",
        "df = pd.read_excel('iris.xlsx',sheet_name='Sepal_length')\n",
        "\n",
        "#xとyの値（List）を代入、標準偏差の値を代入\n",
        "x = ['setosa','vesicolor','virginica']\n",
        "y = df.mean()\n",
        "e = df.std()\n",
        "\n",
        "#グラフを描く場所を作成\n",
        "fig = plt.figure()\n",
        "\n",
        "#サブプロット領域を作成\n",
        "ax = fig.add_subplot()\n",
        "\n",
        "#axクラスのメソッドでグラフを作成（xとy、エラーバーの値を指定、色を指定）\n",
        "ax.bar(x,y,yerr = e,color='green')\n",
        "\n",
        "#軸ラベルを設定\n",
        "ax.set_xlabel('species')\n",
        "ax.set_ylabel('spetal_length')\n",
        "\n",
        "#グラフを描く\n",
        "fig.show()"
      ],
      "execution_count": null,
      "outputs": []
    },
    {
      "cell_type": "code",
      "metadata": {
        "id": "inJ3c1KYQJYa"
      },
      "source": [
        "#全データ使ってグラフ化\n",
        "df = pd.read_excel('iris.xlsx')\n",
        "#df = pd.read_csv(file_name)\n",
        "#df.mean()\n",
        "#df.std()\n",
        "#print(df)"
      ],
      "execution_count": null,
      "outputs": []
    },
    {
      "cell_type": "code",
      "metadata": {
        "id": "G8nOwmi22Z57"
      },
      "source": [
        "#まずはsepal_lengthについて...\n",
        "df_sl = df[['sepal_length','species']]\n",
        "\n",
        "#setosaのデータを取り出し、平均値と標準偏差を計算する。値のデータだけ取り出す。\n",
        "df_setosa = df_sl[df_sl['species'] == 'setosa']\n",
        "setosa = df_setosa.mean().iloc[0]\n",
        "setosa_sd = df_setosa.std().iloc[0]\n",
        "\n",
        "#versicolorのデータを取り出し、平均値と標準偏差を計算する\n",
        "df_versicolor = df_sl[df_sl['species'] == 'versicolor']\n",
        "versicolor = df_versicolor.mean().iloc[0]\n",
        "versicolor_sd = df_versicolor.std().iloc[0]\n",
        "\n",
        "#virginicaのデータを取り出し、平均値と標準偏差を計算する\n",
        "df_virginica = df_sl[df_sl['species'] == 'virginica']\n",
        "virginica = df_virginica.mean().iloc[0]\n",
        "virginica_sd = df_virginica.std().iloc[0]"
      ],
      "execution_count": null,
      "outputs": []
    },
    {
      "cell_type": "code",
      "metadata": {
        "id": "bkGjsjxGho_o"
      },
      "source": [
        "#グラフの描画\n",
        "\n",
        "#横軸のラベル情報を定義\n",
        "x = ['setosa', 'versicolor', 'virginica']\n",
        "\n",
        "#表示する平均値・標準偏差を配列として定義する\n",
        "y = [setosa, versicolor, virginica]\n",
        "e = [setosa_sd, versicolor_sd, virginica_sd]\n",
        "\n",
        "#エラーバーの表示形式を定義\n",
        "error_bar_set = dict(lw = 1, capthick = 1, capsize = 5)\n",
        "\n",
        "#グラフの描画\n",
        "fig = plt.figure()\n",
        "ax = fig.add_subplot()\n",
        "ax.bar(x, y, yerr = e,\n",
        "       error_kw=error_bar_set,\n",
        "       color='green'\n",
        "       )\n",
        "\n",
        "#軸ラベルの設定\n",
        "ax.set_xlabel('species')\n",
        "ax.set_ylabel('petal_length')\n",
        "\n",
        "#グラフを表示\n",
        "fig.show()\n",
        "\n",
        "#グラフを保存\n",
        "#fig.savefig('test_plot.pdf')"
      ],
      "execution_count": null,
      "outputs": []
    },
    {
      "cell_type": "code",
      "metadata": {
        "id": "hrWfYMpLJO3I"
      },
      "source": [
        "#以下は、forループを使ってグラフを全部描く方法\n",
        "\n",
        "n = 1 #グラフを描く場所を決めるための変数\n",
        "fig = plt.figure(figsize=(20, 5)) #グラフを描く場所を作成\n",
        "\n",
        "#Column名を順次取得して棒グラフを描く\n",
        "\n",
        "for column_name in df:\n",
        "  \n",
        "  print(column_name)\n",
        "\n",
        "  df_2 = df[[column_name,'species']]\n",
        "\n",
        "  #setosaのデータを取り出し、平均値と標準偏差を計算する。値のデータだけ取り出す。\n",
        "  df_setosa = df_2[df_2['species'] == 'setosa']\n",
        "  setosa = df_setosa.mean().iloc[0]\n",
        "  setosa_sd = df_setosa.std().iloc[0]\n",
        "\n",
        "  #versicolorのデータを取り出し、平均値と標準偏差を計算する\n",
        "  df_versicolor = df_2[df_2['species'] == 'versicolor']\n",
        "  versicolor = df_versicolor.mean().iloc[0]\n",
        "  versicolor_sd = df_versicolor.std().iloc[0]\n",
        "\n",
        "  #virginicaのデータを取り出し、平均値と標準偏差を計算する\n",
        "  df_virginica = df_2[df_2['species'] == 'virginica']\n",
        "  virginica = df_virginica.mean().iloc[0]\n",
        "  virginica_sd = df_virginica.std().iloc[0]\n",
        "\n",
        "  #グラフの描画\n",
        "\n",
        "  #横軸のラベル情報を定義\n",
        "  x = ['setosa', 'versicolor', 'virginica']\n",
        "\n",
        "  #表示する平均値・標準偏差を配列として定義する\n",
        "  y = [setosa, versicolor, virginica]\n",
        "  e = [setosa_sd, versicolor_sd, virginica_sd]\n",
        "\n",
        "  #エラーバーの表示形式を定義\n",
        "  error_bar_set = dict(lw = 1, capthick = 1, capsize = 5)\n",
        "\n",
        "  #グラフの描画\n",
        "  ax = fig.add_subplot(1,5,n)\n",
        "  ax.bar(x, y, yerr = e,\n",
        "        error_kw=error_bar_set,\n",
        "        )\n",
        "\n",
        "  #軸ラベルの設定\n",
        "  #ax.set_xlabel('species')\n",
        "  ax.set_ylabel(column_name)\n",
        "\n",
        "  n += 1\n",
        "\n",
        "#fig.tight_layout()\n",
        "fig.show()\n",
        "\n",
        "#グラフを保存\n",
        "#fig.savefig('test_plot.pdf')"
      ],
      "execution_count": null,
      "outputs": []
    }
  ]
}