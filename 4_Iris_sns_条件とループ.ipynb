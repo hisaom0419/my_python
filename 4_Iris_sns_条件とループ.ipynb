{
  "nbformat": 4,
  "nbformat_minor": 0,
  "metadata": {
    "colab": {
      "name": "4_Iris_sns_条件とループ.ipynb",
      "provenance": [],
      "mount_file_id": "1_OPr_5_39n2TmQ_uwtQIEUbDqlB6qil_",
      "authorship_tag": "ABX9TyONqhvpge1i+YvXg1db5LcW",
      "include_colab_link": true
    },
    "kernelspec": {
      "name": "python3",
      "display_name": "Python 3"
    },
    "language_info": {
      "name": "python"
    }
  },
  "cells": [
    {
      "cell_type": "markdown",
      "metadata": {
        "id": "view-in-github",
        "colab_type": "text"
      },
      "source": [
        "<a href=\"https://colab.research.google.com/github/hisaom0419/my_python/blob/master/4_Iris_sns_%E6%9D%A1%E4%BB%B6%E3%81%A8%E3%83%AB%E3%83%BC%E3%83%97.ipynb\" target=\"_parent\"><img src=\"https://colab.research.google.com/assets/colab-badge.svg\" alt=\"Open In Colab\"/></a>"
      ]
    },
    {
      "cell_type": "markdown",
      "metadata": {
        "id": "dxoDnBPclywH"
      },
      "source": [
        "制御構文を使う練習。ファイルの取り込み時にファイル形式を判断、Columnの情報をもとにグラフを自動作成\n"
      ]
    },
    {
      "cell_type": "code",
      "metadata": {
        "id": "HI6lsqsNmCzl"
      },
      "source": [
        "%pwd\n",
        "%cd ./drive/MyDrive/Colab Notebooks\n",
        "%ls"
      ],
      "execution_count": null,
      "outputs": []
    },
    {
      "cell_type": "code",
      "metadata": {
        "id": "WS5UKUv7mE_y"
      },
      "source": [
        "#ライブラリーのインポート\n",
        "import pandas as pd\n",
        "import seaborn as sns\n",
        "import matplotlib.pyplot as plt\n",
        "import numpy as np"
      ],
      "execution_count": null,
      "outputs": []
    },
    {
      "cell_type": "code",
      "metadata": {
        "id": "x1hk47JbmW7S"
      },
      "source": [
        "#データの読み込み\n",
        "#ファイルの読み込み（入力待ち）\n",
        "print('ファイル名を入力してください。')\n",
        "file_name = input()\n",
        "\n",
        "if ('xls' in file_name):\n",
        "  df = pd.read_excel(file_name)\n",
        "\n",
        "elif('csv' in file_name):\n",
        "  df = pd.read_csv(file_name)\n",
        "\n",
        "else:\n",
        "  print('incorrect file format')"
      ],
      "execution_count": null,
      "outputs": []
    },
    {
      "cell_type": "code",
      "metadata": {
        "id": "s42Yz-YWlrNp"
      },
      "source": [
        "n = 1 #グラフを描く場所を決めるための変数\n",
        "fig = plt.figure(figsize=(12, 8)) #グラフを描く場所を作成\n",
        "\n",
        "#Column名を順次取得して棒グラフを描く\n",
        "for column_name in df:\n",
        "  print(column_name)\n",
        "  ax = fig.add_subplot(2,3,n)\n",
        "  ax = sns.barplot(x='species',y=column_name,data=df)\n",
        "  n = n+1\n",
        "\n",
        "#グラフを描画\n",
        "fig.show()"
      ],
      "execution_count": null,
      "outputs": []
    }
  ]
}