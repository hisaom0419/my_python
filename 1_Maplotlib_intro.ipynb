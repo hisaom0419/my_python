{
  "nbformat": 4,
  "nbformat_minor": 0,
  "metadata": {
    "colab": {
      "name": "1_Maplotlib_intro.ipynb",
      "provenance": [],
      "collapsed_sections": [],
      "mount_file_id": "18_NfCjNyUiHG3J87jWFno_09CggVORD2",
      "authorship_tag": "ABX9TyPOuLy4QoCNRQoBMEGnZYF6",
      "include_colab_link": true
    },
    "kernelspec": {
      "name": "python3",
      "display_name": "Python 3"
    },
    "language_info": {
      "name": "python"
    }
  },
  "cells": [
    {
      "cell_type": "markdown",
      "metadata": {
        "id": "view-in-github",
        "colab_type": "text"
      },
      "source": [
        "<a href=\"https://colab.research.google.com/github/hisaom0419/my_python/blob/master/1_Maplotlib_intro.ipynb\" target=\"_parent\"><img src=\"https://colab.research.google.com/assets/colab-badge.svg\" alt=\"Open In Colab\"/></a>"
      ]
    },
    {
      "cell_type": "code",
      "metadata": {
        "colab": {
          "base_uri": "https://localhost:8080/"
        },
        "id": "FvNRLTeCiraL",
        "outputId": "52adbcd4-c6ca-48d5-a033-23f5122fcf49"
      },
      "source": [
        "from google.colab import drive\n",
        "drive.mount('/content/drive')"
      ],
      "execution_count": 5,
      "outputs": [
        {
          "output_type": "stream",
          "text": [
            "Drive already mounted at /content/drive; to attempt to forcibly remount, call drive.mount(\"/content/drive\", force_remount=True).\n"
          ],
          "name": "stdout"
        }
      ]
    },
    {
      "cell_type": "code",
      "metadata": {
        "id": "yRf1YqhiIPwe"
      },
      "source": [
        "%pwd\n",
        "%cd /content/drive/MyDrive/Colab Notebooks\n",
        "%ls"
      ],
      "execution_count": null,
      "outputs": []
    },
    {
      "cell_type": "code",
      "metadata": {
        "id": "NG3hnPWBKd51"
      },
      "source": [
        "#ライブラリーのインポート\n",
        "import pandas as pd\n",
        "import seaborn as sns\n",
        "import matplotlib.pyplot as plt\n",
        "import numpy as np"
      ],
      "execution_count": 7,
      "outputs": []
    },
    {
      "cell_type": "code",
      "metadata": {
        "id": "HtJUKISmKsyb"
      },
      "source": [
        "#xとyの値（List）を代入\n",
        "x = ['setosa','vesicolor','virginica']\n",
        "y = [5.006,5.936,6.588]\n",
        "\n",
        "#グラフを描く場所を作成\n",
        "fig = plt.figure()\n",
        "\n",
        "#サブプロット領域を作成\n",
        "ax = fig.add_subplot()\n",
        "\n",
        "#axクラスのメソッドでグラフを作成（xとyの値を指定）\n",
        "ax.bar(x,y)\n",
        "\n",
        "#グラフを描く\n",
        "fig.show()"
      ],
      "execution_count": null,
      "outputs": []
    },
    {
      "cell_type": "code",
      "metadata": {
        "id": "AretwNtnMoW_"
      },
      "source": [
        "#xとyの値（List）を代入\n",
        "x = ['setosa','vesicolor','virginica']\n",
        "y = [5.006,5.936,6.588]\n",
        "\n",
        "#グラフを描く場所を作成\n",
        "fig = plt.figure()\n",
        "\n",
        "#サブプロット領域を作成\n",
        "ax = fig.add_subplot()\n",
        "\n",
        "#axクラスのメソッドでグラフを作成（xとyの値を指定）\n",
        "ax.bar(x,y)\n",
        "\n",
        "#軸ラベルを設定\n",
        "ax.set_xlabel('species')\n",
        "ax.set_ylabel('spetal_length')\n",
        "\n",
        "#グラフを描く\n",
        "fig.show()"
      ],
      "execution_count": null,
      "outputs": []
    },
    {
      "cell_type": "code",
      "metadata": {
        "id": "AhHUw2XbNjEX"
      },
      "source": [
        "#xとyの値（List）を代入、標準偏差の値を代入\n",
        "x = ['setosa','vesicolor','virginica']\n",
        "y = [5.006,5.936,6.588]\n",
        "e = [0.352,0.516,0.636]\n",
        "\n",
        "#グラフを描く場所を作成\n",
        "fig = plt.figure()\n",
        "\n",
        "#サブプロット領域を作成\n",
        "ax = fig.add_subplot()\n",
        "\n",
        "#axクラスのメソッドでグラフを作成（xとy、エラーバーの値を指定、色を指定）\n",
        "ax.bar(x,y,yerr = e,color='green')\n",
        "\n",
        "#軸ラベルを設定\n",
        "ax.set_xlabel('species')\n",
        "ax.set_ylabel('spetal_length')\n",
        "\n",
        "#グラフを描く\n",
        "fig.show()"
      ],
      "execution_count": null,
      "outputs": []
    },
    {
      "cell_type": "code",
      "metadata": {
        "id": "hYrjr7I5OHkN"
      },
      "source": [
        "#xとyの値（List）を代入、標準偏差の値を代入\n",
        "x = ['setosa','vesicolor','virginica']\n",
        "y = [3.428,2.77,2.974]\n",
        "e = [0.352,0.516,0.636]\n",
        "\n",
        "#グラフを描く場所を作成\n",
        "fig = plt.figure()\n",
        "\n",
        "#サブプロット領域を作成\n",
        "ax = fig.add_subplot()\n",
        "\n",
        "#エラーバーの形式を設定\n",
        "error_bar_set = dict(lw = 1, capthick = 1, capsize = 5)\n",
        "\n",
        "#axクラスのメソッドでグラフを作成（xとy、エラーバーの値を指定、色を指定）\n",
        "ax.bar(x,y,\n",
        "       yerr = e,\n",
        "       error_kw = error_bar_set,\n",
        "       color = 'green'\n",
        "       )\n",
        "\n",
        "#軸ラベルを設定\n",
        "ax.set_xlabel('species')\n",
        "ax.set_ylabel('spetal_length')\n",
        "\n",
        "#グリッド線を設定\n",
        "ax.grid()\n",
        "\n",
        "#グラフを表示\n",
        "fig.show()\n",
        "\n",
        "#グラフを保存\n",
        "#fig.savefig('test_plot.pdf')"
      ],
      "execution_count": null,
      "outputs": []
    },
    {
      "cell_type": "code",
      "metadata": {
        "id": "c8M2d7nmO8gh"
      },
      "source": [
        "#xとyの値（List）を代入、標準偏差の値を代入\n",
        "x = ['setosa','vesicolor','virginica']\n",
        "y_sepal_length = [5.006,5.936,6.588]\n",
        "e_sepal_length = [0.352,0.516,0.636]\n",
        "\n",
        "y_sepal_width = [3.428,2.77,2.974]\n",
        "e_sepal_width = [0.370,0.314,0.322]\n",
        "\n",
        "#グラフを描く場所を作成\n",
        "fig = plt.figure(figsize=(12, 5))\n",
        "\n",
        "#サブプロット（その1）領域を作成\n",
        "ax1 = fig.add_subplot(2,2,1)\n",
        "\n",
        "#エラーバーの形式を設定\n",
        "error_bar_set = dict(lw = 1, capthick = 1, capsize = 5)\n",
        "\n",
        "#axクラスのメソッドでグラフを作成（xとy、エラーバーの値を指定、色を指定）\n",
        "ax1.bar(x,y_sepal_length,\n",
        "       yerr = e_sepal_length,\n",
        "       error_kw = error_bar_set,\n",
        "       color = 'green'\n",
        "       )\n",
        "\n",
        "#軸ラベルを設定\n",
        "ax1.set_xlabel('species')\n",
        "ax1.set_ylabel('spetal_length')\n",
        "\n",
        "#サブプロット（その2）領域を作成\n",
        "ax2 = fig.add_subplot(2,2,2)\n",
        "\n",
        "#エラーバーの形式を設定\n",
        "error_bar_set = dict(lw = 1, capthick = 1, capsize = 5)\n",
        "\n",
        "#axクラスのメソッドでグラフを作成（xとy、エラーバーの値を指定、色を指定）\n",
        "ax2.bar(x,y_sepal_width,\n",
        "       yerr = e_sepal_width,\n",
        "       error_kw = error_bar_set,\n",
        "       color = 'green'\n",
        "       )\n",
        "\n",
        "#軸ラベルを設定\n",
        "ax2.set_xlabel('species')\n",
        "ax2.set_ylabel('spetal_width')\n",
        "\n",
        "#グラフを表示\n",
        "fig.tight_layout()\n",
        "fig.show()\n",
        "\n",
        "#グラフを保存\n",
        "fig.savefig('test_plot.pdf')"
      ],
      "execution_count": null,
      "outputs": []
    },
    {
      "cell_type": "code",
      "metadata": {
        "id": "pJw2zKtNRyIe"
      },
      "source": [
        ""
      ],
      "execution_count": 12,
      "outputs": []
    }
  ]
}