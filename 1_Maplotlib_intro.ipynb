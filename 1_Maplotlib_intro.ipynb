{
  "nbformat": 4,
  "nbformat_minor": 0,
  "metadata": {
    "colab": {
      "name": "1_Maplotlib_intro.ipynb",
      "provenance": [],
      "collapsed_sections": [],
      "mount_file_id": "18_NfCjNyUiHG3J87jWFno_09CggVORD2",
      "authorship_tag": "ABX9TyPOuLy4QoCNRQoBMEGnZYF6",
      "include_colab_link": true
    },
    "kernelspec": {
      "name": "python3",
      "display_name": "Python 3"
    },
    "language_info": {
      "name": "python"
    }
  },
  "cells": [
    {
      "cell_type": "markdown",
      "metadata": {
        "id": "view-in-github",
        "colab_type": "text"
      },
      "source": [
        "<a href=\"https://colab.research.google.com/github/hisaom0419/my_python/blob/master/1_Maplotlib_intro.ipynb\" target=\"_parent\"><img src=\"https://colab.research.google.com/assets/colab-badge.svg\" alt=\"Open In Colab\"/></a>"
      ]
    },
    {
      "cell_type": "code",
      "metadata": {
        "colab": {
          "base_uri": "https://localhost:8080/"
        },
        "id": "FvNRLTeCiraL",
        "outputId": "52adbcd4-c6ca-48d5-a033-23f5122fcf49"
      },
      "source": [
        "from google.colab import drive\n",
        "drive.mount('/content/drive')"
      ],
      "execution_count": 5,
      "outputs": [
        {
          "output_type": "stream",
          "text": [
            "Drive already mounted at /content/drive; to attempt to forcibly remount, call drive.mount(\"/content/drive\", force_remount=True).\n"
          ],
          "name": "stdout"
        }
      ]
    },
    {
      "cell_type": "code",
      "metadata": {
        "colab": {
          "base_uri": "https://localhost:8080/"
        },
        "id": "yRf1YqhiIPwe",
        "outputId": "72a0cff0-4a1b-4cfe-b393-a528c277019c"
      },
      "source": [
        "%pwd\n",
        "%cd /content/drive/MyDrive/Colab Notebooks\n",
        "%ls"
      ],
      "execution_count": 6,
      "outputs": [
        {
          "output_type": "stream",
          "text": [
            "/content/drive/MyDrive/Colab Notebooks\n",
            " 1_Maplotlib_intro.ipynb                MGR算出_20210429.ipynb\n",
            " 20210222_mox.xlsx                     'MGR算出(Tecan).ipynb'\n",
            "'20210419 mCherry mCherry-Kafri.xlsx'   \u001b[0m\u001b[01;34mold_files\u001b[0m/\n",
            "'20210422 trans.xlsx'                   \u001b[01;34m__pycache__\u001b[0m/\n",
            " 20210428.ipynb                         Python_start.ipynb\n",
            " 2_plt_Iris.ipynb                       Rocky_Chie.xlsx\n",
            " 3_sns_基本_Iris_.ipynb                 Sample_sheet_2.xlsx\n",
            " 4_Iris_sns_条件とループ.ipynb          Sample_sheet_3.xlsx\n",
            " 5_Dataframe_intro.ipynb                Sample_sheet_8.xlsx\n",
            " ave_OD_file.csv                        Sample_sheet8.xlsx\n",
            " BioPython.ipynb                        Sample_sheet.xlsx\n",
            " Graph_20210427.pdf                     Sc_gene_list.xlsx\n",
            " green_file.xlsx                        Sc_ORFs_20210428.csv\n",
            " iris.csv                               Start.ipynb\n",
            " iris_HM.xlsx                           Tecan_analysis_OD_FL1_part.ipynb\n",
            " Iris_plt_やり方2.ipynb                 Tecan_analysis_saeki.ipynb\n",
            " iris.xlsx                             'Tecan(OD_FL1)_20210429.ipynb'\n",
            " Maplotlib_intro2.ipynb                 Tecan_saeki_OD_FL1.ipynb\n",
            " maxGFP.xlsx                            test_plot.pdf\n",
            " maxRFP_file_20210427.xlsx              test_plot.png\n",
            " maxRFP_file.xlsx                       Untitled\n",
            "'mCherry-Kafri (1).xlsx'                Untitled0.ipynb\n",
            " mCherry-Kafri.xlsx                    'Untitled (1)'\n",
            " MGR_calc_TECAN_HM.py                   Untitled1.ipynb\n",
            " MGR_Chie.xlsx\n"
          ],
          "name": "stdout"
        }
      ]
    },
    {
      "cell_type": "code",
      "metadata": {
        "id": "NG3hnPWBKd51"
      },
      "source": [
        "#ライブラリーのインポート\n",
        "import pandas as pd\n",
        "import seaborn as sns\n",
        "import matplotlib.pyplot as plt\n",
        "import numpy as np"
      ],
      "execution_count": 7,
      "outputs": []
    },
    {
      "cell_type": "code",
      "metadata": {
        "id": "HtJUKISmKsyb"
      },
      "source": [
        "#xとyの値（List）を代入\n",
        "x = ['setosa','vesicolor','virginica']\n",
        "y = [5.006,5.936,6.588]\n",
        "\n",
        "#グラフを描く場所を作成\n",
        "fig = plt.figure()\n",
        "\n",
        "#サブプロット領域を作成\n",
        "ax = fig.add_subplot()\n",
        "\n",
        "#axクラスのメソッドでグラフを作成（xとyの値を指定）\n",
        "ax.bar(x,y)\n",
        "\n",
        "#グラフを描く\n",
        "fig.show()"
      ],
      "execution_count": null,
      "outputs": []
    },
    {
      "cell_type": "code",
      "metadata": {
        "id": "AretwNtnMoW_"
      },
      "source": [
        "#xとyの値（List）を代入\n",
        "x = ['setosa','vesicolor','virginica']\n",
        "y = [5.006,5.936,6.588]\n",
        "\n",
        "#グラフを描く場所を作成\n",
        "fig = plt.figure()\n",
        "\n",
        "#サブプロット領域を作成\n",
        "ax = fig.add_subplot()\n",
        "\n",
        "#axクラスのメソッドでグラフを作成（xとyの値を指定）\n",
        "ax.bar(x,y)\n",
        "\n",
        "#軸ラベルを設定\n",
        "ax.set_xlabel('species')\n",
        "ax.set_ylabel('spetal_length')\n",
        "\n",
        "#グラフを描く\n",
        "fig.show()"
      ],
      "execution_count": null,
      "outputs": []
    },
    {
      "cell_type": "code",
      "metadata": {
        "id": "AhHUw2XbNjEX"
      },
      "source": [
        "#xとyの値（List）を代入、標準偏差の値を代入\n",
        "x = ['setosa','vesicolor','virginica']\n",
        "y = [5.006,5.936,6.588]\n",
        "e = [0.352,0.516,0.636]\n",
        "\n",
        "#グラフを描く場所を作成\n",
        "fig = plt.figure()\n",
        "\n",
        "#サブプロット領域を作成\n",
        "ax = fig.add_subplot()\n",
        "\n",
        "#axクラスのメソッドでグラフを作成（xとy、エラーバーの値を指定、色を指定）\n",
        "ax.bar(x,y,yerr = e,color='green')\n",
        "\n",
        "#軸ラベルを設定\n",
        "ax.set_xlabel('species')\n",
        "ax.set_ylabel('spetal_length')\n",
        "\n",
        "#グラフを描く\n",
        "fig.show()"
      ],
      "execution_count": null,
      "outputs": []
    },
    {
      "cell_type": "code",
      "metadata": {
        "id": "hYrjr7I5OHkN"
      },
      "source": [
        "#xとyの値（List）を代入、標準偏差の値を代入\n",
        "x = ['setosa','vesicolor','virginica']\n",
        "y = [3.428,2.77,2.974]\n",
        "e = [0.352,0.516,0.636]\n",
        "\n",
        "#グラフを描く場所を作成\n",
        "fig = plt.figure()\n",
        "\n",
        "#サブプロット領域を作成\n",
        "ax = fig.add_subplot()\n",
        "\n",
        "#エラーバーの形式を設定\n",
        "error_bar_set = dict(lw = 1, capthick = 1, capsize = 5)\n",
        "\n",
        "#axクラスのメソッドでグラフを作成（xとy、エラーバーの値を指定、色を指定）\n",
        "ax.bar(x,y,\n",
        "       yerr = e,\n",
        "       error_kw = error_bar_set,\n",
        "       color = 'green'\n",
        "       )\n",
        "\n",
        "#軸ラベルを設定\n",
        "ax.set_xlabel('species')\n",
        "ax.set_ylabel('spetal_length')\n",
        "\n",
        "#グリッド線を設定\n",
        "ax.grid()\n",
        "\n",
        "#グラフを表示\n",
        "fig.show()\n",
        "\n",
        "#グラフを保存\n",
        "#fig.savefig('test_plot.pdf')"
      ],
      "execution_count": null,
      "outputs": []
    },
    {
      "cell_type": "code",
      "metadata": {
        "id": "c8M2d7nmO8gh"
      },
      "source": [
        "#xとyの値（List）を代入、標準偏差の値を代入\n",
        "x = ['setosa','vesicolor','virginica']\n",
        "y_sepal_length = [5.006,5.936,6.588]\n",
        "e_sepal_length = [0.352,0.516,0.636]\n",
        "\n",
        "y_sepal_width = [3.428,2.77,2.974]\n",
        "e_sepal_width = [0.370,0.314,0.322]\n",
        "\n",
        "#グラフを描く場所を作成\n",
        "fig = plt.figure(figsize=(12, 5))\n",
        "\n",
        "#サブプロット（その1）領域を作成\n",
        "ax1 = fig.add_subplot(2,2,1)\n",
        "\n",
        "#エラーバーの形式を設定\n",
        "error_bar_set = dict(lw = 1, capthick = 1, capsize = 5)\n",
        "\n",
        "#axクラスのメソッドでグラフを作成（xとy、エラーバーの値を指定、色を指定）\n",
        "ax1.bar(x,y_sepal_length,\n",
        "       yerr = e_sepal_length,\n",
        "       error_kw = error_bar_set,\n",
        "       color = 'green'\n",
        "       )\n",
        "\n",
        "#軸ラベルを設定\n",
        "ax1.set_xlabel('species')\n",
        "ax1.set_ylabel('spetal_length')\n",
        "\n",
        "#サブプロット（その2）領域を作成\n",
        "ax2 = fig.add_subplot(2,2,2)\n",
        "\n",
        "#エラーバーの形式を設定\n",
        "error_bar_set = dict(lw = 1, capthick = 1, capsize = 5)\n",
        "\n",
        "#axクラスのメソッドでグラフを作成（xとy、エラーバーの値を指定、色を指定）\n",
        "ax2.bar(x,y_sepal_width,\n",
        "       yerr = e_sepal_width,\n",
        "       error_kw = error_bar_set,\n",
        "       color = 'green'\n",
        "       )\n",
        "\n",
        "#軸ラベルを設定\n",
        "ax2.set_xlabel('species')\n",
        "ax2.set_ylabel('spetal_width')\n",
        "\n",
        "#グラフを表示\n",
        "fig.tight_layout()\n",
        "fig.show()\n",
        "\n",
        "#グラフを保存\n",
        "fig.savefig('test_plot.pdf')"
      ],
      "execution_count": null,
      "outputs": []
    },
    {
      "cell_type": "code",
      "metadata": {
        "id": "pJw2zKtNRyIe"
      },
      "source": [
        ""
      ],
      "execution_count": 12,
      "outputs": []
    }
  ]
}