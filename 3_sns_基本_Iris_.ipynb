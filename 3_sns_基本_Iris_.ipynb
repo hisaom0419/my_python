{
  "nbformat": 4,
  "nbformat_minor": 0,
  "metadata": {
    "colab": {
      "name": "3_sns_基本_Iris_.ipynb",
      "provenance": [],
      "collapsed_sections": [],
      "mount_file_id": "1pEnIWprf799UQnPbMra58EcJ7HcKm66i",
      "authorship_tag": "ABX9TyNJfU4l0+u0PgS/tnX1yEY9",
      "include_colab_link": true
    },
    "kernelspec": {
      "name": "python3",
      "display_name": "Python 3"
    },
    "language_info": {
      "name": "python"
    }
  },
  "cells": [
    {
      "cell_type": "markdown",
      "metadata": {
        "id": "view-in-github",
        "colab_type": "text"
      },
      "source": [
        "<a href=\"https://colab.research.google.com/github/hisaom0419/my_python/blob/master/3_sns_%E5%9F%BA%E6%9C%AC_Iris_.ipynb\" target=\"_parent\"><img src=\"https://colab.research.google.com/assets/colab-badge.svg\" alt=\"Open In Colab\"/></a>"
      ]
    },
    {
      "cell_type": "markdown",
      "metadata": {
        "id": "A8kABW9RBy17"
      },
      "source": [
        "Seabornを使って格好よくグラフを描く"
      ]
    },
    {
      "cell_type": "code",
      "metadata": {
        "id": "ip8gG20kDBz9"
      },
      "source": [
        "%pwd\n",
        "%cd ./drive/MyDrive/Colab Notebooks\n",
        "%ls"
      ],
      "execution_count": null,
      "outputs": []
    },
    {
      "cell_type": "code",
      "metadata": {
        "id": "s7Nr-N5vByC3"
      },
      "source": [
        "#ライブラリーのインポート\n",
        "import pandas as pd\n",
        "import seaborn as sns\n",
        "import matplotlib.pyplot as plt\n",
        "import numpy as np"
      ],
      "execution_count": 3,
      "outputs": []
    },
    {
      "cell_type": "code",
      "metadata": {
        "id": "-v8AOAFNB-9k"
      },
      "source": [
        "#データの読み込み（入力待ちとif文の練習）\n",
        "print('ファイル名を入力してください。')\n",
        "file_name = input()\n",
        "\n",
        "if('xls' in file_name):\n",
        "  df = pd.read_excel(file_name)\n",
        "\n",
        "elif('csv' in file_name):\n",
        "  df = pd.read_csv(file_name)\n",
        "\n",
        "else:\n",
        "  print('incorrect file format')"
      ],
      "execution_count": null,
      "outputs": []
    },
    {
      "cell_type": "markdown",
      "metadata": {
        "id": "ePSUOIL8-4yv"
      },
      "source": [
        "以下、SeabornによるDataframeのグラフ化の例"
      ]
    },
    {
      "cell_type": "code",
      "metadata": {
        "id": "wEg3GHo6BB_O"
      },
      "source": [
        "#線グラフ\n",
        "df.plot()"
      ],
      "execution_count": null,
      "outputs": []
    },
    {
      "cell_type": "code",
      "metadata": {
        "id": "8Y11b6YxBYzb"
      },
      "source": [
        "#線グラフ・グラフを分けて\n",
        "df.plot(subplots=True)"
      ],
      "execution_count": null,
      "outputs": []
    },
    {
      "cell_type": "code",
      "metadata": {
        "id": "pWJwZ5Na_Gd7"
      },
      "source": [
        "#棒グラフ（その１）\n",
        "sns.barplot(data=df)"
      ],
      "execution_count": null,
      "outputs": []
    },
    {
      "cell_type": "code",
      "metadata": {
        "id": "55Yj5-jFAf9K"
      },
      "source": [
        "#棒グラフ（その２）\n",
        "sns.catplot(data=df,kind='bar')"
      ],
      "execution_count": null,
      "outputs": []
    },
    {
      "cell_type": "code",
      "metadata": {
        "id": "X2TKdNfZAozj"
      },
      "source": [
        "#ドットプロットを描く\n",
        "sns.catplot(data=df)"
      ],
      "execution_count": null,
      "outputs": []
    },
    {
      "cell_type": "code",
      "metadata": {
        "id": "BVqeQgFEB5Uh"
      },
      "source": [
        "#二種類のグラフを重ねて\n",
        "sns.catplot(data=df)\n",
        "sns.barplot(data=df)"
      ],
      "execution_count": null,
      "outputs": []
    },
    {
      "cell_type": "code",
      "metadata": {
        "id": "b3ehLH92ex2s"
      },
      "source": [
        "#種ごとにグラフを作成\n",
        "sns.barplot(x='species',y='sepal_length',data=df)"
      ],
      "execution_count": null,
      "outputs": []
    },
    {
      "cell_type": "code",
      "metadata": {
        "id": "xPGX0KebFf-5"
      },
      "source": [
        "sns.barplot(data=df, color='green', errcolor='black', errwidth=2, capsize=0.1)"
      ],
      "execution_count": null,
      "outputs": []
    },
    {
      "cell_type": "code",
      "metadata": {
        "id": "afjxFWA6mxKM"
      },
      "source": [
        "#Matplotibのやり方を使って複数のグラフを表示\n",
        "\n",
        "fig = plt.figure(figsize=(8, 5))\n",
        "\n",
        "ax1 = fig.add_subplot(1,2,1)\n",
        "ax1 = sns.barplot(y='petal_width',x='species',data=df)\n",
        "\n",
        "ax1 = fig.add_subplot(1,2,2)\n",
        "ax1 = sns.barplot(y='sepal_width',x='species',data=df)\n",
        "\n",
        "plt.tight_layout()\n",
        "fig.show()"
      ],
      "execution_count": null,
      "outputs": []
    }
  ]
}