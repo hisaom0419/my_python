{
  "nbformat": 4,
  "nbformat_minor": 0,
  "metadata": {
    "colab": {
      "name": "Tecan(OD_FL1)_20210429.ipynb",
      "provenance": [],
      "collapsed_sections": [],
      "include_colab_link": true
    },
    "kernelspec": {
      "name": "python3",
      "display_name": "Python 3"
    },
    "language_info": {
      "name": "python"
    }
  },
  "cells": [
    {
      "cell_type": "markdown",
      "metadata": {
        "id": "view-in-github",
        "colab_type": "text"
      },
      "source": [
        "<a href=\"https://colab.research.google.com/github/hisaom0419/my_python/blob/master/Tecan(OD_FL1)_20210512.ipynb\" target=\"_parent\"><img src=\"https://colab.research.google.com/assets/colab-badge.svg\" alt=\"Open In Colab\"/></a>"
      ]
    },
    {
      "cell_type": "markdown",
      "metadata": {
        "id": "8qrqPFE4onQ_"
      },
      "source": [
        "Tecanで測定して得られたワークシートを解析するコード\n",
        "OD595、FL1を想定している。FLが2色のケースがある場合、また作ります（HM)。\n",
        "\n",
        "基本的には、96穴、各サンプルを８行に、横１２列サンプル分解析したシートを想定している。ただ、解析ウェルを限った場合にもサンプルシート（sample_file）を対応させることで解析可能。\n",
        "\n",
        "必須入力項目は必須。\n",
        "サブコードにもパラメータあり。必要に応じて変更。"
      ]
    },
    {
      "cell_type": "code",
      "metadata": {
        "id": "awJHszRUq-di",
        "colab": {
          "base_uri": "https://localhost:8080/"
        },
        "outputId": "a3b3f034-1d72-4007-a3a3-d377d363ac45"
      },
      "source": [
        "from google.colab import drive\n",
        "drive.mount('/content/drive')"
      ],
      "execution_count": 2,
      "outputs": [
        {
          "output_type": "stream",
          "text": [
            "Drive already mounted at /content/drive; to attempt to forcibly remount, call drive.mount(\"/content/drive\", force_remount=True).\n"
          ],
          "name": "stdout"
        }
      ]
    },
    {
      "cell_type": "code",
      "metadata": {
        "colab": {
          "base_uri": "https://localhost:8080/"
        },
        "id": "sXHaBqHNabGv",
        "outputId": "8aeb622a-5208-4973-db6f-b1868993c4f2"
      },
      "source": [
        "%pwd\n",
        "%cd /content/drive/MyDrive/Colab Notebooks\n",
        "#%ls"
      ],
      "execution_count": 3,
      "outputs": [
        {
          "output_type": "stream",
          "text": [
            "/content/drive/MyDrive/Colab Notebooks\n"
          ],
          "name": "stdout"
        }
      ]
    },
    {
      "cell_type": "code",
      "metadata": {
        "id": "zLP6Xpusadkn"
      },
      "source": [
        "import pandas as pd\n",
        "import matplotlib.pyplot as plt\n",
        "import numpy as np\n",
        "import seaborn as sns\n",
        "from scipy import fftpack"
      ],
      "execution_count": 4,
      "outputs": []
    },
    {
      "cell_type": "code",
      "metadata": {
        "id": "1AUVXDPdkdLQ"
      },
      "source": [
        "#データ読み込み(ver.1.0.0)\n",
        "\n",
        "#----必須入力項目----\n",
        "data_file = 'mCherry-Kafri.xlsx' #データシート\n",
        "max_cycle = len(pd.read_excel(data_file).columns) #最大読み取りサイクル数\n",
        "sample_file = 'Sample_sheet_8.xlsx' #サンプルシート\n",
        "graph_color = 'red' #グラフの色\n",
        "graph_file = 'Graph_20210427.pdf' #グラフの保存ファイル名\n",
        "max_FL_file = 'green_file.xlsx' #最大蛍光値・MGRを保存するファイル\n",
        "#----ここまで----\n",
        "\n",
        "Sample = pd.read_excel(sample_file, index_col=0).to_dict()[\"Sample\"]\n",
        "length = len(Sample)\n",
        "\n",
        "if length == 96:\n",
        "  df_1 = pd.read_excel(data_file,index_col=0,skiprows=46,nrows=96,header=None,usecols=np.arange(0,max_cycle,1)).dropna(how='all',axis=1)\n",
        "  df_2 = pd.read_excel(data_file,index_col=0,skiprows=46+96+5,nrows=96,header=None,usecols=np.arange(0,max_cycle,1)).dropna(how='all',axis=1)\n",
        "  \n",
        "else:\n",
        "  df_1 = pd.read_excel(data_file,index_col=0,skiprows=47,nrows=length,header=None,usecols=np.arange(0,max_cycle,1))\n",
        "  df_2 = pd.read_excel(data_file,index_col=0,skiprows=47+length+5,nrows=length,header=None,usecols=np.arange(0,max_cycle,1))\n",
        "\n",
        "\n",
        "#ウェル番号とサンプル名をマルチインデックスにしたデータフレームの作成\n",
        "df_1c = pd.concat([df_1,pd.read_excel(sample_file, index_col=0)], axis=1, join='inner').set_index('Sample',append=1)\n",
        "df_2c = pd.concat([df_2,pd.read_excel(sample_file, index_col=0)], axis=1, join='inner').set_index('Sample',append=1)\n",
        "\n",
        "# #df_1をプロット\n",
        "# df_1s.T.plot(legend=0)\n",
        "\n",
        "# print(df_1)"
      ],
      "execution_count": 6,
      "outputs": []
    },
    {
      "cell_type": "code",
      "metadata": {
        "id": "Dasr966OkoNd",
        "colab": {
          "base_uri": "https://localhost:8080/"
        },
        "outputId": "74cc60b8-df37-4a38-a044-164bf4a644c8"
      },
      "source": [
        "#周期（period）検出(ver.1.0.0)\n",
        "\n",
        "#サイクル数が偶数値でないといけない\n",
        "\n",
        "#~~~~パラメータ~~~~\n",
        "Start = 101 #周期検出の最初\n",
        "End = 400 #周期検出の最後\n",
        "Threshold = 0.1 #閾値を設定\n",
        "Max_Cycle = 100 #最大周期を設定\n",
        "#~~~~ここまで~~~~\n",
        "\n",
        "df = df_1.T.loc[Start:End]\n",
        "\n",
        "if len(df)%2 != 0:\n",
        "  print('測定サイクル数を偶数値にしてください！')\n",
        "\n",
        "else:\n",
        "  all_period = []\n",
        "\n",
        "  for column_name in df:\n",
        "    f = df[column_name].values \n",
        "    t = np.arange(len(f)) \n",
        "\n",
        "    assert t.size == f.size  # 時間軸の長さとデータの長さが同じであることを確認する\n",
        "    assert np.unique(np.diff(t)).size == 1  # 時間間隔が全て一定であることを確認する\n",
        "\n",
        "    T = (t[1] - t[0]) * t.size\n",
        "    period = 1.0 / (np.arange(t.size / 2)[1:] / T)\n",
        "\n",
        "    # パワースペクトル密度を計算\n",
        "    f = f - np.average(f)         # 平均をゼロに。\n",
        "    F = fftpack.fft(f)                          # 高速フーリエ変換\n",
        "    Po = np.abs(F[1:(t.size // 2)]) ** 2 / T\n",
        "    \n",
        "    dominant_periods = [x for x in period[Po > Threshold] if x <= Max_Cycle]\n",
        "\n",
        "    n=0\n",
        "    for x in dominant_periods:\n",
        "      all_period.append(dominant_periods[n])\n",
        "      n=n+1\n",
        "      \n",
        "  period = round(np.mean(all_period))\n",
        "  print('周期は',period,'です。')"
      ],
      "execution_count": 7,
      "outputs": [
        {
          "output_type": "stream",
          "text": [
            "周期は 63 です。\n"
          ],
          "name": "stdout"
        }
      ]
    },
    {
      "cell_type": "code",
      "metadata": {
        "id": "wCELPs4N30e1"
      },
      "source": [
        "#サイクル処理の確認 (ver.1.0.0)\n",
        "Df =  df_1c.rolling(period,axis=1,center=True,min_periods=1).mean()\n",
        "Df.T.plot(legend=0)\n",
        "\n",
        "#サンプルごとのデータをグラフ化\n",
        "Df.xs('No.5', level=1).T.plot()"
      ],
      "execution_count": null,
      "outputs": []
    },
    {
      "cell_type": "code",
      "metadata": {
        "id": "4-xfQ4YRksRV"
      },
      "source": [
        "#グラフ一覧作成 (ver.1.0.0)\n",
        "\n",
        "#~~~~パラメータ~~~~\n",
        "#グラフの縦軸の最大値\n",
        "max_OD = 1.5\n",
        "max_FL = 50000\n",
        "#~~~~ここまで~~~~\n",
        "\n",
        "fig=plt.figure(figsize=(20,10))\n",
        "\n",
        "df_1ave =  df_1c.rolling(period,axis=1,center=True,min_periods=1).mean()\n",
        "df_2ave =  df_2c.rolling(period,axis=1,center=True,min_periods=1).mean()\n",
        "\n",
        "n=0\n",
        "x=np.arange(len(df_1ave.T))\n",
        "\n",
        "for sample in list(Sample.values())[:length//8]:\n",
        "  n+=1\n",
        "  #wellを抽出\n",
        "  wells = [k for k, v in Sample.items() if v == sample]\n",
        "\n",
        "\n",
        "  tdf1=df_1ave.loc[wells]\n",
        "  tdf2=df_2ave.loc[wells]\n",
        "\n",
        "  y1=tdf1.mean(axis=0)\n",
        "  std1=tdf1.std(axis=0)\n",
        "  y2=tdf2.mean(axis=0)\n",
        "  std2=tdf2.std(axis=0)\n",
        "  y3=y2/y1\n",
        "\n",
        "  ax1=fig.add_subplot(3,4,n)\n",
        "  \n",
        "  ax1.plot(x,y1,color=\"gray\")\n",
        "  ax1.fill_between(x,y1-std1,y1+std1,alpha=0.5,color=\"gray\")\n",
        "  ax1.set_title(sample)\n",
        "  ax1.set_ylabel(\"OD\")\n",
        "  ax1.set_xlabel(\"time(x10 min)\")\n",
        "  ax1.set_ylim(0, max_OD)\n",
        "  \n",
        "  ax2 = ax1.twinx() #2軸のグラフを描くため\n",
        "  ax2.plot(x,y2,color=graph_color)\n",
        "  ax2.fill_between(x,y2-std2,y2+std2,alpha=0.5,color=graph_color)\n",
        "  ax2.set_ylim(0, max_FL)\n",
        "  #ax2.set_yticks(np.arange(0,2000+1,500))\n",
        "  ax2.set_ylabel(\"Intensity\")\n",
        "\n",
        "  # ax3 = ax1.twinx() #2軸のグラフを描くため\n",
        "  # ax3.plot(x,y3,color='blue')\n",
        "  # ax3.set_ylim(0, 2000)\n",
        "\n",
        "plt.tight_layout()\n",
        "plt.show()\n",
        "\n",
        "#グラフを保存\n",
        "fig.savefig(graph_file)"
      ],
      "execution_count": null,
      "outputs": []
    },
    {
      "cell_type": "code",
      "metadata": {
        "id": "JxWeM0W7RRne"
      },
      "source": [
        "#MGR算出ファイル（ver.2.1.0）\n",
        "\n",
        "#~~~~パラメータ~~~~\n",
        "Period = 10 #測定間隔（min）\n",
        "Range = 25 #GRを算出するレンジ\n",
        "Step_size = 10 #移動測定数（大きくすると処理が早くなる）\n",
        "Threshold = 0.8 #R2の閾値を指定\n",
        "#~~~~ここまで~~~~\n",
        "\n",
        "#データをログ変換\n",
        "OD_log2 = np.log2(df_1ave).dropna()\n",
        "Max_cycle = len(OD_log2.columns)\n",
        "Well_Num = len(OD_log2) \n",
        "x = np.arange(Range)\n",
        "\n",
        "MGR = OD_log2[1]\n",
        "\n",
        "#WellごとにTimeウインドウを移動しながらGR（直線回帰の傾き=SlopeとR2を取得）、R2のThreshold以上のSlopeを返す（Threshold以下だと0.01を返す）。\n",
        "#最終的なGRは測定時間間隔（Period）で割り(min-1)、便宜的に1000をかけている。\n",
        "\n",
        "for index in MGR.index:\n",
        "  Cycle = 0\n",
        "  n = 1\n",
        "  Slope  = np.array([0.1])\n",
        "  R2 = np.array([1.0])\n",
        "  OD_list = OD_log2.loc[index].values\n",
        "\n",
        "  while Cycle < Max_cycle-Range:\n",
        "    #OD_list2 = OD_list[Cycle:Cycle+Range]\n",
        "    OD_list2 = np.roll(OD_list,Cycle)[0:Range]\n",
        "    Slope = np.insert(Slope,n,(np.polyfit(x,OD_list2,1)[0]*100)) #1次関数で傾き（Slope）を計算。100倍してSlopeに順次代入\n",
        "    R2 = np.insert(R2,n,(np.corrcoef(x,OD_list2)[0][1]**2)) #R2を計算。R2に順次代入\n",
        "    Cycle += Step_size\n",
        "    n += 1\n",
        "\n",
        "  GR = np.array([x for x in Slope[R2 > Threshold]]) #R2がThresholdより高いGRのarrayを作成\n",
        "  MGR[index] = GR.max()"
      ],
      "execution_count": 62,
      "outputs": []
    },
    {
      "cell_type": "code",
      "metadata": {
        "id": "7lGLLj40yx0a"
      },
      "source": [
        "#MGRと最高蛍光値のグラフ化、保存（ver.1.0.0）\n",
        "\n",
        "#~~~~パラメータ~~~~\n",
        "MGR_max = 6 #MGRグラフ最大値\n",
        "MFL_max = 2000 #MFLグラフ最大値\n",
        "#~~~~ここまで~~~~\n",
        "\n",
        "\n",
        "fig=plt.figure()\n",
        "\n",
        "ax1=fig.add_subplot()\n",
        "ax1=sns.barplot(MGR.index.get_level_values('Sample'), MGR.values,color='gray',capsize=0.2)\n",
        "#ax1=sns.stripplot(MGR.index.get_level_values('Sample'), MGR.values,color='gray')\n",
        "ax1.set_ylabel(\"MGR\")\n",
        "ax1.set_ylim(0, MGR_max)\n",
        "\n",
        "MFL = df_2ave.max(axis=1)\n",
        "\n",
        "ax2 = ax1.twinx() #2軸のグラフを描くため\n",
        "ax2=sns.pointplot(MFL.index.get_level_values('Sample'), MFL.values,color=graph_color,join=False,capsize=0.2)\n",
        "#ax2=sns.barplot(MFL.index.get_level_values('Sample'), MFL.values,color=graph_color)\n",
        "\n",
        "ax2.set_ylabel(\"Intensity\")\n",
        "ax2.set_ylim(0, MFL_max)\n",
        "\n",
        "plt.show()\n",
        "\n",
        "MFL.to_excel(max_FL_file,sheet_name=\"MFL\")\n",
        "MGR.to_excel(max_FL_file,sheet_name=\"MGR\")"
      ],
      "execution_count": null,
      "outputs": []
    }
  ]
}