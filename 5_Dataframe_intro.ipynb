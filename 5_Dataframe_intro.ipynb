{
  "nbformat": 4,
  "nbformat_minor": 0,
  "metadata": {
    "colab": {
      "name": "5_Dataframe_intro.ipynb",
      "provenance": [],
      "mount_file_id": "1_E_IlKDhi27REr6LRARdukSht4TbXWgl",
      "authorship_tag": "ABX9TyOPDI+irqwq8KpZOhfJOwF3",
      "include_colab_link": true
    },
    "kernelspec": {
      "name": "python3",
      "display_name": "Python 3"
    },
    "language_info": {
      "name": "python"
    }
  },
  "cells": [
    {
      "cell_type": "markdown",
      "metadata": {
        "id": "view-in-github",
        "colab_type": "text"
      },
      "source": [
        "<a href=\"https://colab.research.google.com/github/hisaom0419/my_python/blob/master/5_Dataframe_intro.ipynb\" target=\"_parent\"><img src=\"https://colab.research.google.com/assets/colab-badge.svg\" alt=\"Open In Colab\"/></a>"
      ]
    },
    {
      "cell_type": "code",
      "metadata": {
        "id": "N1NDJ-pdf5Ma"
      },
      "source": [
        "#Colabディレクトリに移動\n",
        "%pwd\n",
        "%cd ./drive/MyDrive/Colab Notebooks\n",
        "%ls"
      ],
      "execution_count": null,
      "outputs": []
    },
    {
      "cell_type": "code",
      "metadata": {
        "id": "rjthvOUlgAAJ"
      },
      "source": [
        "#ライブラリーのインポート\n",
        "import pandas as pd\n",
        "import seaborn as sns\n",
        "import matplotlib.pyplot as plt\n",
        "import numpy as np"
      ],
      "execution_count": null,
      "outputs": []
    },
    {
      "cell_type": "code",
      "metadata": {
        "id": "ag9-sVkTgSao"
      },
      "source": [
        "#データの読み込み\n",
        "df = pd.read_excel('iris.xlsx')\n",
        "#df = pd.read_csv(file_name)\n",
        "\n",
        "print(df)"
      ],
      "execution_count": null,
      "outputs": []
    },
    {
      "cell_type": "code",
      "metadata": {
        "id": "Q0BSolYRzEqu"
      },
      "source": [
        "df2 = pd.read_excel('iris.xlsx',usecols=[2,4])\n",
        "#df2"
      ],
      "execution_count": null,
      "outputs": []
    },
    {
      "cell_type": "code",
      "metadata": {
        "id": "6yK4Ak1EqXOG"
      },
      "source": [
        "#特定の列だけSeriesとして抽出\n",
        "#df.species\n",
        "#df['species']"
      ],
      "execution_count": null,
      "outputs": []
    },
    {
      "cell_type": "code",
      "metadata": {
        "id": "6x4oJndtqlQO"
      },
      "source": [
        "#特定の行だけ取り出し\n",
        "#df.loc[120]"
      ],
      "execution_count": null,
      "outputs": []
    },
    {
      "cell_type": "code",
      "metadata": {
        "id": "zx35s5naghJR"
      },
      "source": [
        "#行列の入れ替え\n",
        "#df.transpose()\n",
        "#df.T"
      ],
      "execution_count": null,
      "outputs": []
    },
    {
      "cell_type": "code",
      "metadata": {
        "id": "xuRH6UXBgrr9"
      },
      "source": [
        "#1から始まって150の連続値の配列を作成\n",
        "a = np.arange(1,151)\n",
        "#print(a)\n",
        "\n",
        "#dfの'No'列として組み込む\n",
        "df['No'] = a\n",
        "print(df)"
      ],
      "execution_count": null,
      "outputs": []
    },
    {
      "cell_type": "code",
      "metadata": {
        "id": "zYxYzaaSjD7P"
      },
      "source": [
        "#'No'をindex行に置き換え\n",
        "df.set_index('No')"
      ],
      "execution_count": null,
      "outputs": []
    },
    {
      "cell_type": "code",
      "metadata": {
        "id": "_AmCMX_hjgcn"
      },
      "source": [
        "#指定した列（species）が条件式にあうデータのみを抽出\n",
        "df['species'] == 'setosa' #条件式\n",
        "df[df['species'] == 'setosa']"
      ],
      "execution_count": null,
      "outputs": []
    },
    {
      "cell_type": "code",
      "metadata": {
        "id": "0vcmXQDJkjMI"
      },
      "source": [
        "#指定した行・列を削除（行の場合にはaxis = 0、列の場合にはaxis = 1）\n",
        "df.drop('No', axis = 1)"
      ],
      "execution_count": null,
      "outputs": []
    },
    {
      "cell_type": "code",
      "metadata": {
        "id": "W-xdXZvylBgY"
      },
      "source": [
        "#データの値で並べ替え（以下の2つの違い分かりますか？）\n",
        "df.sort_values('sepal_length')\n",
        "df_s = df.sort_values('sepal_length')\n",
        "\n",
        "print(df_s)"
      ],
      "execution_count": null,
      "outputs": []
    },
    {
      "cell_type": "code",
      "metadata": {
        "id": "ebtUWJcRlWrL"
      },
      "source": [
        "#インデックスを作り直す\n",
        "df.reset_index()"
      ],
      "execution_count": null,
      "outputs": []
    },
    {
      "cell_type": "code",
      "metadata": {
        "id": "Q-ngmIIuqHxj"
      },
      "source": [
        "#重複なく要素を抽出\n",
        "df['species'].drop_duplicates()\n"
      ],
      "execution_count": null,
      "outputs": []
    },
    {
      "cell_type": "code",
      "metadata": {
        "id": "j_YEEro8Gct4"
      },
      "source": [
        "#列の要素を取り出して配列に変換\n",
        "df.No.values"
      ],
      "execution_count": null,
      "outputs": []
    }
  ]
}